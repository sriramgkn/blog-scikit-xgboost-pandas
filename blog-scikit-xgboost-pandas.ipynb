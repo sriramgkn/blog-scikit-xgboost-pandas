{
  "nbformat": 4,
  "nbformat_minor": 0,
  "metadata": {
    "colab": {
      "provenance": []
    },
    "kernelspec": {
      "name": "python3",
      "display_name": "Python 3"
    },
    "language_info": {
      "name": "python"
    }
  },
  "cells": [
    {
      "cell_type": "markdown",
      "source": [
        "## Exploring scikit-learn, XGBoost, and pandas\n",
        "\n",
        "Cite like this [[0](#ref-0)].\n",
        "Jupyter instructions: install [scikit-learn](https://scikit-learn.org/stable/install.html), [xgboost](https://xgboost.readthedocs.io/en/stable/install.html), [pandas](https://pandas.pydata.org/docs/getting_started/install.html), and [matplotlib](https://matplotlib.org/stable/users/installing/index.html) in your Python environment.\n",
        "\n",
        "In this post, we will explore [scikit-learn](https://scikit-learn.org/stable/), [XGBoost](https://xgboost.readthedocs.io/en/stable/), and [pandas](https://pandas.pydata.org/) - three traditional machine learning libraries in Python.\n",
        "\n",
        "scikit-learn, XGBoost, and pandas are three essential open-source libraries in the Python data science and machine learning ecosystem. scikit-learn provides a wide range of supervised and unsupervised learning algorithms, making it a go-to tool for many data scientists. XGBoost is an optimized gradient boosting library known for its speed and performance, often used to achieve state-of-the-art results on structured datasets. pandas is a powerful data manipulation library that provides easy-to-use data structures and analysis tools. Together, these libraries form a robust toolkit for data loading, preprocessing, modeling, and analysis.\n",
        "\n",
        "### scikit-learn\n",
        "\n",
        "scikit-learn is a versatile machine learning library that provides tools for data preprocessing, model selection, evaluation metrics, and a variety of learning algorithms [[1](#ref-1)] [[6](#ref-6)] [[8](#ref-8)] [[13](#ref-13)] [[20](#ref-20)].\n",
        "\n",
        "Key capabilities of scikit-learn include:\n",
        "\n",
        "- Supervised learning algorithms: scikit-learn offers a wide range of classification and regression algorithms, such as linear models, support vector machines (SVM), decision trees, random forests, and neural networks [[1](#ref-1)] [[8](#ref-8)] [[13](#ref-13)] [[20](#ref-20)].\n",
        "\n",
        "- Unsupervised learning algorithms: The library provides tools for clustering, dimensionality reduction, and anomaly detection, including k-means, DBSCAN, principal component analysis (PCA), and more [[1](#ref-1)] [[8](#ref-8)] [[13](#ref-13)] [[20](#ref-20)].\n",
        "\n",
        "- Model selection and evaluation: scikit-learn includes tools for hyperparameter tuning, cross-validation, and various evaluation metrics for assessing model performance [[1](#ref-1)] [[6](#ref-6)] [[8](#ref-8)] [[13](#ref-13)] [[20](#ref-20)].\n",
        "\n",
        "- Feature extraction and preprocessing: The library offers functions for feature scaling, normalization, encoding categorical variables, handling missing data, and text feature extraction [[1](#ref-1)] [[6](#ref-6)] [[8](#ref-8)] [[13](#ref-13)] [[20](#ref-20)].\n",
        "\n",
        "- Integration with other libraries: scikit-learn integrates well with NumPy for numerical computing, SciPy for scientific computing, and Matplotlib for data visualization [[1](#ref-1)] [[6](#ref-6)] [[8](#ref-8)] [[13](#ref-13)] [[20](#ref-20)].\n",
        "\n",
        "### XGBoost\n",
        "\n",
        "XGBoost is an optimized gradient boosting library designed for speed and performance [[1](#ref-1)] [[2](#ref-2)] [[3](#ref-3)] [[4](#ref-4)] [[8](#ref-8)] [[18](#ref-18)] [[19](#ref-19)]. It has become a popular choice for many machine learning competitions and real-world applications.\n",
        "\n",
        "Key features and capabilities of XGBoost include:\n",
        "\n",
        "- Gradient boosting: XGBoost is an implementation of the gradient boosting algorithm, which combines weak learners (decision trees) to create a strong predictive model [[1](#ref-1)] [[2](#ref-2)] [[3](#ref-3)] [[4](#ref-4)] [[8](#ref-8)] [[18](#ref-18)] [[19](#ref-19)].\n",
        "\n",
        "- Regularization: The library includes various regularization techniques to prevent overfitting, such as L1 and L2 regularization, and tree pruning [[2](#ref-2)] [[3](#ref-3)] [[4](#ref-4)] [[18](#ref-18)] [[19](#ref-19)].\n",
        "\n",
        "- Parallel processing: XGBoost supports parallel computation, allowing for faster training on multi-core CPUs and distributed computing environments [[1](#ref-1)] [[2](#ref-2)] [[3](#ref-3)] [[4](#ref-4)] [[8](#ref-8)] [[18](#ref-18)] [[19](#ref-19)].\n",
        "\n",
        "- Handling missing values: XGBoost has built-in mechanisms to handle missing values in the input data without the need for imputation [[3](#ref-3)] [[8](#ref-8)] [[18](#ref-18)].\n",
        "\n",
        "- Flexibility and customization: The library provides a wide range of hyperparameters for fine-tuning the model and supports custom objective functions and evaluation metrics [[2](#ref-2)] [[3](#ref-3)] [[4](#ref-4)] [[8](#ref-8)] [[18](#ref-18)] [[19](#ref-19)].\n",
        "\n",
        "### pandas\n",
        "\n",
        "pandas is a powerful data manipulation and analysis library that provides easy-to-use data structures and tools for working with structured data [[7](#ref-7)] [[9](#ref-9)] [[11](#ref-11)] [[12](#ref-12)] [[16](#ref-16)].\n",
        "\n",
        "Key features and capabilities of pandas include:\n",
        "\n",
        "- Data structures: pandas introduces two main data structures - Series (1-dimensional) and DataFrame (2-dimensional), which allow for efficient data manipulation and analysis [[7](#ref-7)] [[9](#ref-9)] [[11](#ref-11)] [[12](#ref-12)] [[16](#ref-16)].\n",
        "\n",
        "- Data loading and writing: The library supports reading and writing data from various file formats, such as CSV, Excel, SQL databases, and JSON [[7](#ref-7)] [[9](#ref-9)] [[11](#ref-11)] [[12](#ref-12)] [[16](#ref-16)].\n",
        "\n",
        "- Data cleaning and preprocessing: pandas provides functions for handling missing data, filtering, sorting, merging, reshaping, and transforming datasets [[7](#ref-7)] [[9](#ref-9)] [[11](#ref-11)] [[12](#ref-12)] [[16](#ref-16)].\n",
        "\n",
        "- Merging and joining data: The library offers tools for combining multiple datasets based on common columns or indexes [[7](#ref-7)] [[9](#ref-9)] [[11](#ref-11)] [[12](#ref-12)] [[16](#ref-16)].\n",
        "\n",
        "- Time series functionality: pandas has extensive support for working with time series data, including date range generation, frequency conversion, and rolling window calculations [[7](#ref-7)] [[9](#ref-9)] [[11](#ref-11)] [[12](#ref-12)] [[16](#ref-16)].\n",
        "\n",
        "- Integration with other libraries: pandas integrates well with other data science and visualization libraries, such as NumPy, Matplotlib, and Seaborn [[7](#ref-7)] [[9](#ref-9)] [[11](#ref-11)] [[12](#ref-12)] [[16](#ref-16)].\n",
        "\n",
        "In the next section, we will explore code examples demonstrating the usage of these libraries for various data science and machine learning tasks.\n",
        "\n",
        "## Code examples\n",
        "\n",
        "Let us now look at code examples of learning algorithms with scikit-learn and XGBoost, and dataframe creation and manipulation with pandas.\n",
        "\n",
        "**scikit-learn Example: Classification with Random Forest**"
      ],
      "metadata": {
        "id": "LcZ68UjXQ6om"
      }
    },
    {
      "cell_type": "code",
      "source": [
        "from sklearn.datasets import load_iris\n",
        "from sklearn.model_selection import train_test_split\n",
        "from sklearn.ensemble import RandomForestClassifier\n",
        "from sklearn.metrics import accuracy_score\n",
        "from sklearn.tree import plot_tree\n",
        "import matplotlib.pyplot as plt\n",
        "\n",
        "# Load the iris dataset\n",
        "iris = load_iris()\n",
        "X, y = iris.data, iris.target\n",
        "\n",
        "# Split into train and test sets\n",
        "X_train, X_test, y_train, y_test = train_test_split(X, y, test_size=0.2, random_state=42)\n",
        "\n",
        "# Create and train a random forest classifier\n",
        "rf = RandomForestClassifier(n_estimators=100, random_state=42)\n",
        "rf.fit(X_train, y_train)\n",
        "\n",
        "# Make predictions and calculate accuracy\n",
        "y_pred = rf.predict(X_test)\n",
        "accuracy = accuracy_score(y_test, y_pred)\n",
        "print(f\"Accuracy: {accuracy:.2f}\")\n",
        "\n",
        "# Visualize one of the decision trees in the forest\n",
        "plt.figure(figsize=(15,10))\n",
        "plot_tree(rf.estimators_[0], feature_names=iris.feature_names,\n",
        "          class_names=iris.target_names, filled=True)\n",
        "plt.show()"
      ],
      "metadata": {
        "id": "HGn4q2Xy1eSl"
      },
      "execution_count": null,
      "outputs": []
    },
    {
      "cell_type": "markdown",
      "source": [
        "This loads the iris dataset, splits it into train/test sets, trains a random forest classifier, makes predictions, calculates accuracy, and visualizes one of the decision trees in the forest using scikit-learn's `plot_tree` function [[21](#ref-21)] [[26](#ref-26)] [[28](#ref-28)] [[33](#ref-33)] [[40](#ref-40)].\n",
        "\n",
        "**XGBoost Example: Regression with XGBoost**"
      ],
      "metadata": {
        "id": "ULfwO3gz_fdd"
      }
    },
    {
      "cell_type": "code",
      "source": [
        "from sklearn.datasets import load_boston\n",
        "from sklearn.model_selection import train_test_split\n",
        "from xgboost import XGBRegressor, plot_importance, plot_tree\n",
        "from sklearn.metrics import mean_squared_error\n",
        "import matplotlib.pyplot as plt\n",
        "\n",
        "# Load the Boston housing dataset\n",
        "boston = load_boston()\n",
        "X, y = boston.data, boston.target\n",
        "\n",
        "# Split into train and test sets\n",
        "X_train, X_test, y_train, y_test = train_test_split(X, y, test_size=0.2, random_state=42)\n",
        "\n",
        "# Create and train an XGBoost regressor\n",
        "xgb = XGBRegressor(n_estimators=100, learning_rate=0.1, random_state=42)\n",
        "xgb.fit(X_train, y_train)\n",
        "\n",
        "# Make predictions and calculate mean squared error\n",
        "y_pred = xgb.predict(X_test)\n",
        "mse = mean_squared_error(y_test, y_pred)\n",
        "print(f\"Mean Squared Error: {mse:.2f}\")\n",
        "\n",
        "# Plot feature importances\n",
        "plt.figure(figsize=(10,8))\n",
        "plot_importance(xgb)\n",
        "plt.show()\n",
        "\n",
        "# Visualize one of the trees\n",
        "plt.figure(figsize=(15,10))\n",
        "plot_tree(xgb, num_trees=0, rankdir='LR')\n",
        "plt.show()"
      ],
      "metadata": {
        "id": "JtQdOxJdAouP"
      },
      "execution_count": null,
      "outputs": []
    },
    {
      "cell_type": "markdown",
      "source": [
        "This loads the Boston housing dataset, splits it into train/test sets, trains an XGBoost regressor, makes predictions, calculates mean squared error, plots the feature importances using XGBoost's `plot_importance` function, and visualizes one of the trees in the model using XGBoost's `plot_tree` function [[21](#ref-21)] [[22](#ref-22)] [[23](#ref-23)] [[24](#ref-24)] [[28](#ref-28)] [[38](#ref-38)] [[39](#ref-39)].\n",
        "\n",
        "**pandas Example: Data Manipulation and Analysis**"
      ],
      "metadata": {
        "id": "qQWip_jcA-wz"
      }
    },
    {
      "cell_type": "code",
      "source": [
        "import pandas as pd\n",
        "import matplotlib.pyplot as plt\n",
        "\n",
        "# Create a sample DataFrame\n",
        "data = {\n",
        "    'Name': ['John', 'Alice', 'Bob', 'John', 'Alice'],\n",
        "    'Age': [25, 30, 35, 25, 30],\n",
        "    'City': ['New York', 'London', 'Paris', 'New York', 'London'],\n",
        "    'Salary': [50000, 60000, 75000, 50000, 65000]\n",
        "}\n",
        "df = pd.DataFrame(data)\n",
        "\n",
        "# Group by name and calculate mean salary\n",
        "mean_salary_by_name = df.groupby('Name')['Salary'].mean()\n",
        "print(\"Mean Salary by Name:\")\n",
        "print(mean_salary_by_name)\n",
        "\n",
        "# Visualize mean salary by name\n",
        "mean_salary_by_name.plot(kind='bar')\n",
        "plt.xlabel('Name')\n",
        "plt.ylabel('Mean Salary')\n",
        "plt.show()\n",
        "\n",
        "# Filter rows based on a condition\n",
        "filtered_df = df[df['Age'] > 30]\n",
        "print(\"\\nFiltered DataFrame (Age > 30):\")\n",
        "print(filtered_df)"
      ],
      "metadata": {
        "id": "9kBY-wU6BEPw"
      },
      "execution_count": null,
      "outputs": []
    },
    {
      "cell_type": "markdown",
      "source": [
        "This creates a sample DataFrame, groups by the 'Name' column and calculates mean salary, prints the result, visualizes the mean salary by name using pandas' built-in plotting with a bar chart, and then filters the DataFrame to only include rows where 'Age' is greater than 30 [[27](#ref-27)] [[29](#ref-29)] [[31](#ref-31)] [[32](#ref-32)] [[36](#ref-36)].\n",
        "\n",
        "These examples demonstrate loading data, training models, making predictions, evaluating performance, and visualizing the learned models and results using scikit-learn, XGBoost, pandas, and Matplotlib."
      ],
      "metadata": {
        "id": "YQ6h1i-NBUXP"
      }
    },
    {
      "cell_type": "markdown",
      "source": [
        "---\n",
        "### References  \n",
        "[0] <a id=\"ref-0\"></a> [https://www.example.com](https://www.example.com)  \n",
        "[1] <a id=\"ref-1\"></a> [scikit-learn.org: scikit-learn: Machine Learning in Python](https://scikit-learn.org)  \n",
        "[2] <a id=\"ref-2\"></a> [xgboost.readthedocs.io: XGBoost Documentation](https://xgboost.readthedocs.io/en/stable/)  \n",
        "[3] <a id=\"ref-3\"></a> [nvidia.com: What is XGBoost?](https://www.nvidia.com/en-us/glossary/xgboost/)  \n",
        "[4] <a id=\"ref-4\"></a> [machinelearningmastery.com: A Gentle Introduction to XGBoost for Applied Machine Learning](https://machinelearningmastery.com/gentle-introduction-xgboost-applied-machine-learning/)  \n",
        "[5] <a id=\"ref-5\"></a> [geeksforgeeks.org: XGBoost Algorithm: Long May She Reign!](https://www.geeksforgeeks.org/xgboost/)  \n",
        "[6] <a id=\"ref-6\"></a> [machinelearningmastery.com: A Gentle Introduction to scikit-learn: A Python Machine Learning Library](https://machinelearningmastery.com/a-gentle-introduction-to-scikit-learn-a-python-machine-learning-library/)  \n",
        "[7] <a id=\"ref-7\"></a> [tutorialspoint.com: Python pandas - Introduction](https://www.tutorialspoint.com/python_pandas/python_pandas_introduction.htm)  \n",
        "[8] <a id=\"ref-8\"></a> [simplilearn.com: What is the XGBoost Algorithm in Machine Learning?](https://www.simplilearn.com/what-is-xgboost-algorithm-in-machine-learning-article)  \n",
        "[9] <a id=\"ref-9\"></a> [thedatascientist.com: scikit-learn 101: Exploring Important Functions](https://thedatascientist.com/scikit-learn-101-exploring-important-functions/)  \n",
        "[10] <a id=\"ref-10\"></a> [zerotomastery.io: How to Use scikit-learn in Python](https://zerotomastery.io/blog/how-to-use-scikit-learn/)  \n",
        "[11] <a id=\"ref-11\"></a> [geeksforgeeks.org: Learning Model Building in scikit-learn : A Python Machine Learning Library](https://www.geeksforgeeks.org/learning-model-building-scikit-learn-python-machine-learning-library/)  \n",
        "[12] <a id=\"ref-12\"></a> [datacamp.com: pandas Tutorial: DataFrames in Python](https://www.datacamp.com/tutorial/pandas)  \n",
        "[13] <a id=\"ref-13\"></a> [upgrad.com: scikit-learn in Python: A Complete Guide](https://www.upgrad.com/blog/scikit-learn-in-python/)  \n",
        "[14] <a id=\"ref-14\"></a> [wikipedia.org: XGBoost](https://en.wikipedia.org/wiki/XGBoost)  \n",
        "[15] <a id=\"ref-15\"></a> [activestate.com: What is scikit-learn in Python?](https://www.activestate.com/resources/quick-reads/what-is-scikit-learn-in-python/)  \n",
        "[16] <a id=\"ref-16\"></a> [geeksforgeeks.org: Introduction to pandas in Python](https://www.geeksforgeeks.org/introduction-to-pandas-in-python/)  \n",
        "[17] <a id=\"ref-17\"></a> [kdnuggets.com: XGBoost: A Concise Technical Overview](https://www.kdnuggets.com/2017/10/xgboost-concise-technical-overview.html)  \n",
        "[18] <a id=\"ref-18\"></a> [wikipedia.org: scikit-learn](https://en.wikipedia.org/wiki/scikit-learn)  \n",
        "[19] <a id=\"ref-19\"></a> [neptune.ai: XGBoost: Everything You Need to Know](https://neptune.ai/blog/xgboost-everything-you-need-to-know)  \n",
        "[20] <a id=\"ref-20\"></a> [simplilearn.com: scikit-learn Tutorial: Machine Learning in Python](https://www.simplilearn.com/tutorials/python-tutorial/scikit-learn)  \n",
        "[21] <a id=\"ref-21\"></a> [dataquest.io: How to Plot a DataFrame Using pandas](https://www.dataquest.io/blog/plot-dataframe-pandas/)  \n",
        "[22] <a id=\"ref-22\"></a> [towardsdatascience.com: 3 Quick and Easy Ways to Visualize Your Data Using pandas](https://towardsdatascience.com/3-quick-and-easy-ways-to-visualize-your-data-using-pandas-4cac57fb4c82)  \n",
        "[23] <a id=\"ref-23\"></a> [tryolabs.com: pandas & Seaborn: A guide to handle & visualize data elegantly](https://tryolabs.com/blog/2017/03/16/pandas-seaborn-a-guide-to-handle-visualize-data-elegantly)  \n",
        "[24] <a id=\"ref-24\"></a> [realpython.com: Python Plotting With pandas and Matplotlib](https://realpython.com/pandas-plot-python/)  \n",
        "[25] <a id=\"ref-25\"></a> [towardsdatascience.com: Visualize Machine Learning Metrics Like a Pro](https://towardsdatascience.com/visualize-machine-learning-metrics-like-a-pro-b0d5d7815065)  \n",
        "[26] <a id=\"ref-26\"></a> [docs.wandb.ai: scikit-learn Integration](https://docs.wandb.ai/guides/integrations/scikit)  \n",
        "[27] <a id=\"ref-27\"></a> [stackoverflow.com: How to Determine and Visualize a Representative XGBoost Decision Tree](https://stackoverflow.com/questions/73660299/how-to-determine-and-visualize-a-representative-xgboost-decision-tree)  \n",
        "[28] <a id=\"ref-28\"></a> [kdnuggets.com: 7 pandas Plotting Functions for Quick Data Visualization](https://www.kdnuggets.com/7-pandas-plotting-functions-for-quick-data-visualization)  \n",
        "[29] <a id=\"ref-29\"></a> [codementor.io: Visualizing Decision Trees with Python, scikit-learn, Graphviz, and matplotlib](https://www.codementor.io/%40mgalarny/visualizing-decision-trees-with-python-scikit-learn-graphviz-matplotlib-154mszcto7)  \n",
        "[30] <a id=\"ref-30\"></a> [neptune.ai: Visualization in Machine Learning: How to Visualize Models and Metrics](https://neptune.ai/blog/visualization-in-machine-learning)  \n",
        "[31] <a id=\"ref-31\"></a> [machinelearningmastery.com: How to Visualize Gradient Boosting Decision Trees With XGBoost in Python](https://machinelearningmastery.com/visualize-gradient-boosting-decision-trees-xgboost-python/)  \n",
        "[32] <a id=\"ref-32\"></a> [geeksforgeeks.org: pandas Built-in Data Visualization](https://www.geeksforgeeks.org/pandas-built-in-data-visualization-ml/)  \n",
        "[33] <a id=\"ref-33\"></a> [projectpro.io: Visualise XGBoost Tree in Python](https://www.projectpro.io/recipes/visualise-xgboost-tree-in-python)  \n",
        "[34] <a id=\"ref-34\"></a> [pandas.pydata.org: Visualization](https://pandas.pydata.org/pandas-docs/version/0.23.4/visualization.html)  \n",
        "[35] <a id=\"ref-35\"></a> [scikit-learn.org: Visualizations](https://scikit-learn.org/stable/visualizations.html)  \n",
        "[36] <a id=\"ref-36\"></a> [community.deeplearning.ai: Random Forest/XGBoost - Visualize the Final Estimate of Tree](https://community.deeplearning.ai/t/random-forest-xgboost-visualize-the-final-estimate-of-tree/223595)  \n",
        "[37] <a id=\"ref-37\"></a> [projectpro.io: Visualise XGBoost Tree in R](https://www.projectpro.io/recipes/visualise-xgboost-tree-r)  \n",
        "[38] <a id=\"ref-38\"></a> [scikit-learn.org: Plotting Learning Curves](https://scikit-learn.org/stable/auto_examples/model_selection/plot_learning_curve.html)  \n",
        "[39] <a id=\"ref-39\"></a> [mljar.com: How to Visualize a Decision Tree in 4 Ways](https://mljar.com/blog/visualize-decision-tree/)  \n",
        "[40] <a id=\"ref-40\"></a> [youtube.com: Visualizing XGBoost Models](https://www.youtube.com/watch?v=gKMNwS7na9A&t=0)  \n",
        "\n",
        "_Assisted by claude-3-opus on [perplexity.ai](https://perplexity.ai)_"
      ],
      "metadata": {
        "id": "TULMR03mRFk4"
      }
    }
  ]
}